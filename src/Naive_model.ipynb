{
    "cells": [
        {
            "cell_type": "markdown",
            "metadata": {},
            "source": [
                "# Sentiment analysis"
            ]
        },
        {
            "cell_type": "markdown",
            "metadata": {},
            "source": [
                "## Import Libraries"
            ]
        },
        {
            "cell_type": "code",
            "execution_count": 160,
            "metadata": {},
            "outputs": [],
            "source": [
                "import pandas as pd\n",
                "import numpy as np\n",
                "from sklearn.model_selection import train_test_split, GridSearchCV, ParameterGrid\n",
                "from sklearn.feature_extraction.text import CountVectorizer\n",
                "from sklearn.naive_bayes import MultinomialNB, BernoulliNB\n",
                "from sklearn.metrics import accuracy_score, confusion_matrix, ConfusionMatrixDisplay\n",
                "from pickle import dump\n",
                "import contractions\n",
                "import matplotlib.pyplot as plt\n",
                "import seaborn as sns"
            ]
        },
        {
            "cell_type": "markdown",
            "metadata": {},
            "source": [
                "## Import Data"
            ]
        },
        {
            "cell_type": "code",
            "execution_count": 161,
            "metadata": {},
            "outputs": [],
            "source": [
                "# URL data CSV\n",
                "url = \"https://raw.githubusercontent.com/4GeeksAcademy/naive-bayes-project-tutorial/main/playstore_reviews.csv\"\n",
                "\n",
                "# Read CSV\n",
                "total_data = pd.read_csv(url)\n",
                "\n",
                "# Save dataset in rute\n",
                "total_data.to_csv(\"/workspaces/ml-proyect-naive-bayes/data/raw/playstore_reviews.csv\")"
            ]
        },
        {
            "cell_type": "code",
            "execution_count": 162,
            "metadata": {},
            "outputs": [
                {
                    "data": {
                        "text/html": [
                            "<div>\n",
                            "<style scoped>\n",
                            "    .dataframe tbody tr th:only-of-type {\n",
                            "        vertical-align: middle;\n",
                            "    }\n",
                            "\n",
                            "    .dataframe tbody tr th {\n",
                            "        vertical-align: top;\n",
                            "    }\n",
                            "\n",
                            "    .dataframe thead th {\n",
                            "        text-align: right;\n",
                            "    }\n",
                            "</style>\n",
                            "<table border=\"1\" class=\"dataframe\">\n",
                            "  <thead>\n",
                            "    <tr style=\"text-align: right;\">\n",
                            "      <th></th>\n",
                            "      <th>package_name</th>\n",
                            "      <th>review</th>\n",
                            "      <th>polarity</th>\n",
                            "    </tr>\n",
                            "  </thead>\n",
                            "  <tbody>\n",
                            "    <tr>\n",
                            "      <th>0</th>\n",
                            "      <td>com.facebook.katana</td>\n",
                            "      <td>privacy at least put some option appear offli...</td>\n",
                            "      <td>0</td>\n",
                            "    </tr>\n",
                            "    <tr>\n",
                            "      <th>1</th>\n",
                            "      <td>com.facebook.katana</td>\n",
                            "      <td>messenger issues ever since the last update, ...</td>\n",
                            "      <td>0</td>\n",
                            "    </tr>\n",
                            "    <tr>\n",
                            "      <th>2</th>\n",
                            "      <td>com.facebook.katana</td>\n",
                            "      <td>profile any time my wife or anybody has more ...</td>\n",
                            "      <td>0</td>\n",
                            "    </tr>\n",
                            "    <tr>\n",
                            "      <th>3</th>\n",
                            "      <td>com.facebook.katana</td>\n",
                            "      <td>the new features suck for those of us who don...</td>\n",
                            "      <td>0</td>\n",
                            "    </tr>\n",
                            "    <tr>\n",
                            "      <th>4</th>\n",
                            "      <td>com.facebook.katana</td>\n",
                            "      <td>forced reload on uploading pic on replying co...</td>\n",
                            "      <td>0</td>\n",
                            "    </tr>\n",
                            "    <tr>\n",
                            "      <th>...</th>\n",
                            "      <td>...</td>\n",
                            "      <td>...</td>\n",
                            "      <td>...</td>\n",
                            "    </tr>\n",
                            "    <tr>\n",
                            "      <th>886</th>\n",
                            "      <td>com.rovio.angrybirds</td>\n",
                            "      <td>loved it i loooooooooooooovvved it because it...</td>\n",
                            "      <td>1</td>\n",
                            "    </tr>\n",
                            "    <tr>\n",
                            "      <th>887</th>\n",
                            "      <td>com.rovio.angrybirds</td>\n",
                            "      <td>all time legendary game the birthday party le...</td>\n",
                            "      <td>1</td>\n",
                            "    </tr>\n",
                            "    <tr>\n",
                            "      <th>888</th>\n",
                            "      <td>com.rovio.angrybirds</td>\n",
                            "      <td>ads are way to heavy listen to the bad review...</td>\n",
                            "      <td>0</td>\n",
                            "    </tr>\n",
                            "    <tr>\n",
                            "      <th>889</th>\n",
                            "      <td>com.rovio.angrybirds</td>\n",
                            "      <td>fun works perfectly well. ads aren't as annoy...</td>\n",
                            "      <td>1</td>\n",
                            "    </tr>\n",
                            "    <tr>\n",
                            "      <th>890</th>\n",
                            "      <td>com.rovio.angrybirds</td>\n",
                            "      <td>they're everywhere i see angry birds everywhe...</td>\n",
                            "      <td>1</td>\n",
                            "    </tr>\n",
                            "  </tbody>\n",
                            "</table>\n",
                            "<p>891 rows × 3 columns</p>\n",
                            "</div>"
                        ],
                        "text/plain": [
                            "             package_name                                             review  \\\n",
                            "0     com.facebook.katana   privacy at least put some option appear offli...   \n",
                            "1     com.facebook.katana   messenger issues ever since the last update, ...   \n",
                            "2     com.facebook.katana   profile any time my wife or anybody has more ...   \n",
                            "3     com.facebook.katana   the new features suck for those of us who don...   \n",
                            "4     com.facebook.katana   forced reload on uploading pic on replying co...   \n",
                            "..                    ...                                                ...   \n",
                            "886  com.rovio.angrybirds   loved it i loooooooooooooovvved it because it...   \n",
                            "887  com.rovio.angrybirds   all time legendary game the birthday party le...   \n",
                            "888  com.rovio.angrybirds   ads are way to heavy listen to the bad review...   \n",
                            "889  com.rovio.angrybirds   fun works perfectly well. ads aren't as annoy...   \n",
                            "890  com.rovio.angrybirds   they're everywhere i see angry birds everywhe...   \n",
                            "\n",
                            "     polarity  \n",
                            "0           0  \n",
                            "1           0  \n",
                            "2           0  \n",
                            "3           0  \n",
                            "4           0  \n",
                            "..        ...  \n",
                            "886         1  \n",
                            "887         1  \n",
                            "888         0  \n",
                            "889         1  \n",
                            "890         1  \n",
                            "\n",
                            "[891 rows x 3 columns]"
                        ]
                    },
                    "execution_count": 162,
                    "metadata": {},
                    "output_type": "execute_result"
                }
            ],
            "source": [
                "total_data"
            ]
        },
        {
            "cell_type": "markdown",
            "metadata": {},
            "source": [
                "## DataSet Cleaning"
            ]
        },
        {
            "cell_type": "markdown",
            "metadata": {},
            "source": [
                "### Eliminate irrelevant information"
            ]
        },
        {
            "cell_type": "code",
            "execution_count": 163,
            "metadata": {},
            "outputs": [],
            "source": [
                "total_data.drop(\"package_name\", axis=1, inplace=True)"
            ]
        },
        {
            "cell_type": "markdown",
            "metadata": {},
            "source": [
                "### Expand contractions function"
            ]
        },
        {
            "cell_type": "code",
            "execution_count": 164,
            "metadata": {},
            "outputs": [],
            "source": [
                "def expand_contractions(text):\n",
                "    expanded_text = contractions.fix(text)\n",
                "    return expanded_text"
            ]
        },
        {
            "cell_type": "code",
            "execution_count": 165,
            "metadata": {},
            "outputs": [],
            "source": [
                "# Expand the contractions on the review column\n",
                "total_data[\"review\"] = total_data[\"review\"].apply(expand_contractions)"
            ]
        },
        {
            "cell_type": "code",
            "execution_count": 166,
            "metadata": {},
            "outputs": [],
            "source": [
                "## Convert data to lowercase\n",
                "total_data[\"review\"] = total_data[\"review\"].str.strip().str.lower()"
            ]
        },
        {
            "cell_type": "code",
            "execution_count": 167,
            "metadata": {},
            "outputs": [
                {
                    "data": {
                        "text/plain": [
                            "0    privacy at least put some option appear offlin...\n",
                            "1    messenger issues ever since the last update, i...\n",
                            "2    profile any time my wife or anybody has more t...\n",
                            "3    the new features suck for those of us who do n...\n",
                            "4    forced reload on uploading pic on replying com...\n",
                            "5    i do not know i cannot edit my posts? things s...\n",
                            "6    major flaws constant updates and always gettin...\n",
                            "7    video issues since i was forced into this upda...\n",
                            "8    this update completely destroyed my facebook. ...\n",
                            "9    posting issues for the last week, there is bee...\n",
                            "Name: review, dtype: object"
                        ]
                    },
                    "execution_count": 167,
                    "metadata": {},
                    "output_type": "execute_result"
                }
            ],
            "source": [
                "total_data[\"review\"].head(10)"
            ]
        },
        {
            "cell_type": "code",
            "execution_count": 168,
            "metadata": {},
            "outputs": [],
            "source": [
                "# Replace non-alphanumeric characters\n",
                "total_data[\"review\"] = total_data[\"review\"].replace(r'[^a-zA-Z0-9\\s]', ' ', regex=True)"
            ]
        },
        {
            "cell_type": "code",
            "execution_count": 169,
            "metadata": {},
            "outputs": [
                {
                    "data": {
                        "text/plain": [
                            "0    privacy at least put some option appear offlin...\n",
                            "1    messenger issues ever since the last update  i...\n",
                            "2    profile any time my wife or anybody has more t...\n",
                            "3    the new features suck for those of us who do n...\n",
                            "4    forced reload on uploading pic on replying com...\n",
                            "5    i do not know i cannot edit my posts  things s...\n",
                            "6    major flaws constant updates and always gettin...\n",
                            "7    video issues since i was forced into this upda...\n",
                            "8    this update completely destroyed my facebook  ...\n",
                            "9    posting issues for the last week  there is bee...\n",
                            "Name: review, dtype: object"
                        ]
                    },
                    "execution_count": 169,
                    "metadata": {},
                    "output_type": "execute_result"
                }
            ],
            "source": [
                "total_data[\"review\"].head(10)"
            ]
        },
        {
            "cell_type": "markdown",
            "metadata": {},
            "source": [
                "## Divide the dataset"
            ]
        },
        {
            "cell_type": "code",
            "execution_count": 170,
            "metadata": {},
            "outputs": [
                {
                    "data": {
                        "text/plain": [
                            "287    not letting me log in  i try to log into my ac...\n",
                            "815    thanks you so much for adding sanshkar fm kala...\n",
                            "241    kill pages i will enter a url or open a new li...\n",
                            "697    its really lovely apps   i am allready using a...\n",
                            "37     used to be good everything was great  until i ...\n",
                            "Name: review, dtype: object"
                        ]
                    },
                    "execution_count": 170,
                    "metadata": {},
                    "output_type": "execute_result"
                }
            ],
            "source": [
                "X = total_data[\"review\"]\n",
                "y = total_data[\"polarity\"]\n",
                "\n",
                "X_train, X_test, y_train, y_test = train_test_split(X, y, test_size = 0.2, random_state = 24, stratify= y)\n",
                "\n",
                "# Save data\n",
                "X_train.to_csv(\"/workspaces/ml-proyect-naive-bayes/data/interim/train_x.csv\", index = False)\n",
                "y_train.to_csv(\"/workspaces/ml-proyect-naive-bayes/data/interim/train_y.csv\", index = False)\n",
                "X_test.to_csv(\"/workspaces/ml-proyect-naive-bayes/data/interim/test_x.csv\", index = False)\n",
                "y_test.to_csv(\"/workspaces/ml-proyect-naive-bayes/data/interim/test_y.csv\", index = False)\n",
                "\n",
                "X_train.head()"
            ]
        },
        {
            "cell_type": "code",
            "execution_count": 171,
            "metadata": {},
            "outputs": [
                {
                    "data": {
                        "text/plain": [
                            "array([[0, 0, 0, ..., 0, 0, 0],\n",
                            "       [0, 0, 0, ..., 0, 0, 0],\n",
                            "       [0, 0, 0, ..., 0, 0, 0],\n",
                            "       ...,\n",
                            "       [0, 0, 0, ..., 0, 0, 0],\n",
                            "       [0, 0, 0, ..., 0, 0, 0],\n",
                            "       [0, 0, 0, ..., 0, 0, 0]])"
                        ]
                    },
                    "execution_count": 171,
                    "metadata": {},
                    "output_type": "execute_result"
                }
            ],
            "source": [
                "# Transform the text into a word count matrix.\n",
                "vec_model = CountVectorizer(stop_words = \"english\")\n",
                "X_train = vec_model.fit_transform(X_train).toarray()\n",
                "X_test = vec_model.transform(X_test).toarray()\n",
                "\n",
                "# Save data\n",
                "np.savetxt(\"/workspaces/ml-proyect-naive-bayes/data/processed/train_x_vect.csv\", X_train, delimiter=\",\")\n",
                "\n",
                "np.savetxt(\"/workspaces/ml-proyect-naive-bayes/data/processed/test_x_vect.csv\", X_train, delimiter=\",\")\n",
                "\n",
                "X_train"
            ]
        },
        {
            "cell_type": "markdown",
            "metadata": {},
            "source": [
                "## Multinomial Model"
            ]
        },
        {
            "cell_type": "code",
            "execution_count": 172,
            "metadata": {},
            "outputs": [],
            "source": [
                "model = MultinomialNB()\n",
                "model.fit(X_train, y_train)\n",
                "\n",
                "# Save model\n",
                "dump(model, open(\"/workspaces/ml-proyect-naive-bayes/models/model_basic.pk\", \"wb\"))"
            ]
        },
        {
            "cell_type": "markdown",
            "metadata": {},
            "source": [
                "### Basic model"
            ]
        },
        {
            "cell_type": "code",
            "execution_count": 173,
            "metadata": {},
            "outputs": [
                {
                    "data": {
                        "text/plain": [
                            "array([0, 1, 0, 1, 0, 1, 0, 0, 0, 1, 0, 0, 0, 0, 0, 0, 0, 1, 0, 1, 0, 1,\n",
                            "       0, 0, 1, 0, 0, 0, 1, 1, 0, 0, 1, 1, 0, 1, 0, 0, 0, 1, 1, 1, 0, 0,\n",
                            "       0, 0, 1, 1, 1, 1, 0, 0, 1, 0, 1, 0, 1, 0, 0, 0, 1, 0, 0, 1, 0, 0,\n",
                            "       1, 1, 0, 0, 1, 0, 1, 1, 1, 1, 0, 0, 0, 0, 0, 1, 0, 0, 0, 0, 1, 0,\n",
                            "       0, 0, 0, 0, 1, 0, 0, 0, 0, 0, 1, 0, 1, 0, 0, 0, 0, 1, 0, 1, 1, 1,\n",
                            "       0, 1, 0, 0, 0, 1, 1, 0, 1, 1, 0, 1, 0, 1, 0, 0, 0, 0, 1, 1, 0, 0,\n",
                            "       0, 0, 0, 1, 1, 1, 0, 1, 0, 1, 0, 1, 1, 0, 0, 0, 1, 0, 0, 0, 0, 0,\n",
                            "       0, 0, 0, 0, 0, 0, 1, 0, 0, 0, 0, 0, 0, 0, 0, 0, 1, 0, 1, 1, 1, 0,\n",
                            "       1, 0, 1, 0, 1, 1, 0, 0, 0, 0, 0, 0, 0, 0, 0, 1, 0, 0, 1, 1, 0, 1,\n",
                            "       0, 1, 0, 0, 0, 0, 1, 0, 0, 1, 1, 0, 0, 1, 0, 0, 0, 1, 0, 0, 1, 0,\n",
                            "       0, 0, 1, 0, 0, 0, 1, 1, 0, 0, 0, 1, 1, 1, 0, 0, 0, 0, 0, 0, 1, 1,\n",
                            "       0, 1, 1, 0, 0, 1, 0, 0, 0, 1, 0, 0, 0, 1, 0, 1, 1, 0, 1, 0, 0, 0,\n",
                            "       1, 1, 1, 1, 1, 0, 0, 0, 1, 0, 0, 0, 0, 0, 0, 1, 0, 0, 0, 1, 0, 0,\n",
                            "       0, 0, 0, 1, 0, 0, 0, 1, 0, 1, 0, 1, 0, 0, 0, 0, 0, 1, 0, 0, 0, 0,\n",
                            "       0, 1, 0, 0, 0, 1, 0, 1, 0, 1, 0, 0, 0, 1, 1, 0, 0, 0, 0, 0, 0, 0,\n",
                            "       1, 0, 1, 0, 0, 0, 0, 0, 0, 0, 0, 0, 1, 0, 0, 0, 0, 0, 1, 0, 0, 0,\n",
                            "       1, 1, 1, 1, 0, 0, 0, 0, 1, 1, 0, 1, 0, 1, 0, 0, 0, 0, 0, 0, 0, 0,\n",
                            "       1, 0, 1, 0, 0, 0, 0, 0, 0, 0, 0, 0, 0, 0, 0, 1, 0, 0, 0, 0, 0, 1,\n",
                            "       0, 0, 0, 0, 0, 1, 0, 1, 0, 0, 1, 0, 1, 1, 0, 0, 1, 0, 0, 0, 1, 1,\n",
                            "       0, 0, 1, 0, 0, 0, 0, 0, 1, 0, 0, 0, 0, 0, 1, 1, 0, 1, 0, 0, 0, 0,\n",
                            "       0, 0, 1, 0, 0, 1, 0, 1, 1, 0, 0, 0, 0, 0, 1, 0, 1, 1, 0, 0, 0, 0,\n",
                            "       0, 1, 0, 1, 1, 0, 1, 1, 0, 0, 1, 0, 0, 0, 0, 0, 1, 0, 1, 0, 0, 0,\n",
                            "       0, 0, 0, 0, 1, 1, 0, 0, 0, 1, 0, 1, 0, 0, 1, 0, 0, 0, 0, 0, 0, 0,\n",
                            "       0, 1, 0, 0, 1, 0, 1, 0, 0, 0, 0, 0, 1, 0, 0, 1, 1, 0, 0, 0, 0, 0,\n",
                            "       1, 1, 0, 0, 1, 1, 1, 1, 1, 0, 1, 0, 0, 0, 1, 0, 0, 0, 0, 0, 1, 0,\n",
                            "       0, 0, 0, 0, 0, 0, 0, 1, 0, 1, 0, 0, 0, 1, 1, 0, 0, 1, 0, 1, 0, 1,\n",
                            "       1, 0, 1, 0, 0, 0, 0, 0, 0, 1, 0, 1, 0, 1, 1, 1, 0, 0, 0, 0, 1, 1,\n",
                            "       1, 1, 0, 1, 1, 1, 0, 1, 1, 0, 0, 0, 1, 0, 0, 0, 0, 0, 1, 0, 1, 0,\n",
                            "       0, 0, 0, 0, 0, 0, 0, 0, 0, 0, 0, 0, 0, 1, 0, 0, 0, 1, 0, 0, 0, 0,\n",
                            "       0, 0, 1, 0, 1, 1, 0, 0, 0, 1, 0, 0, 0, 1, 0, 1, 1, 1, 1, 1, 0, 1,\n",
                            "       0, 1, 0, 0, 0, 1, 1, 1, 0, 0, 0, 1, 0, 0, 1, 0, 0, 0, 1, 0, 0, 0,\n",
                            "       0, 0, 1, 1, 0, 0, 0, 0, 1, 0, 0, 0, 0, 0, 0, 0, 1, 1, 0, 1, 1, 0,\n",
                            "       0, 0, 1, 0, 0, 0, 0, 0])"
                        ]
                    },
                    "execution_count": 173,
                    "metadata": {},
                    "output_type": "execute_result"
                }
            ],
            "source": [
                "y_pred = model.predict(X_train)\n",
                "y_pred"
            ]
        },
        {
            "cell_type": "code",
            "execution_count": 174,
            "metadata": {},
            "outputs": [
                {
                    "data": {
                        "text/plain": [
                            "0.9536516853932584"
                        ]
                    },
                    "execution_count": 174,
                    "metadata": {},
                    "output_type": "execute_result"
                }
            ],
            "source": [
                "accuracy_score(y_train, y_pred)"
            ]
        },
        {
            "cell_type": "code",
            "execution_count": 175,
            "metadata": {},
            "outputs": [
                {
                    "data": {
                        "text/plain": [
                            "array([1, 0, 0, 0, 1, 0, 0, 0, 0, 0, 0, 0, 0, 0, 0, 0, 0, 0, 0, 1, 0, 0,\n",
                            "       0, 0, 0, 1, 0, 0, 1, 0, 0, 0, 0, 1, 0, 0, 0, 0, 1, 0, 0, 0, 0, 0,\n",
                            "       0, 0, 0, 1, 1, 1, 0, 0, 1, 0, 0, 0, 0, 1, 0, 1, 0, 0, 1, 0, 1, 0,\n",
                            "       0, 0, 1, 0, 0, 0, 0, 0, 0, 0, 0, 0, 1, 1, 1, 1, 1, 0, 0, 0, 1, 1,\n",
                            "       0, 1, 1, 0, 0, 0, 0, 1, 0, 0, 0, 0, 0, 0, 1, 0, 1, 0, 0, 0, 0, 0,\n",
                            "       1, 1, 0, 0, 1, 0, 0, 0, 0, 0, 1, 0, 0, 0, 1, 1, 1, 0, 0, 0, 0, 1,\n",
                            "       1, 0, 0, 0, 0, 0, 0, 1, 0, 1, 0, 0, 0, 0, 0, 1, 0, 0, 1, 0, 1, 1,\n",
                            "       0, 0, 1, 0, 0, 1, 0, 0, 1, 0, 0, 1, 0, 0, 0, 1, 0, 0, 0, 0, 0, 0,\n",
                            "       1, 0, 0])"
                        ]
                    },
                    "execution_count": 175,
                    "metadata": {},
                    "output_type": "execute_result"
                }
            ],
            "source": [
                "y_pred = model.predict(X_test)\n",
                "y_pred"
            ]
        },
        {
            "cell_type": "code",
            "execution_count": 176,
            "metadata": {},
            "outputs": [
                {
                    "data": {
                        "text/plain": [
                            "0.8491620111731844"
                        ]
                    },
                    "execution_count": 176,
                    "metadata": {},
                    "output_type": "execute_result"
                }
            ],
            "source": [
                "accuracy_score(y_test, y_pred)"
            ]
        },
        {
            "cell_type": "markdown",
            "metadata": {},
            "source": [
                "### Confusion matrix"
            ]
        },
        {
            "cell_type": "code",
            "execution_count": 177,
            "metadata": {},
            "outputs": [
                {
                    "data": {
                        "image/png": "[encoded data removed]",
                        "text/plain": [
                            "<Figure size 300x300 with 1 Axes>"
                        ]
                    },
                    "metadata": {},
                    "output_type": "display_data"
                }
            ],
            "source": [
                "cm = confusion_matrix(y_test, y_pred)\n",
                "\n",
                "cm_df = pd.DataFrame(cm)\n",
                "\n",
                "plt.figure(figsize = (3, 3))\n",
                "sns.heatmap(cm_df, annot=True, fmt=\"d\", cbar=False)\n",
                "\n",
                "plt.tight_layout()\n",
                "\n",
                "plt.show()"
            ]
        },
        {
            "cell_type": "code",
            "execution_count": 178,
            "metadata": {},
            "outputs": [],
            "source": [
                "# Dictionary for search best naive model\n",
                "\n",
                "hyperparams = {\"alpha\": [1, 1.5, 1.8, 1.9, 2, 3, 4],\n",
                "\"force_alpha\": [True, False],\n",
                "\"fit_prior\": [True, False],\n",
                "\"class_prior\": [[0.3, 0.7], [0.4, 0.6], [0.2, 0.8], None]}"
            ]
        },
        {
            "cell_type": "markdown",
            "metadata": {},
            "source": [
                "### Best model with GridSearch"
            ]
        },
        {
            "cell_type": "code",
            "execution_count": 179,
            "metadata": {},
            "outputs": [
                {
                    "data": {
                        "text/html": [
                            "<style>#sk-container-id-11 {color: black;}#sk-container-id-11 pre{padding: 0;}#sk-container-id-11 div.sk-toggleable {background-color: white;}#sk-container-id-11 label.sk-toggleable__label {cursor: pointer;display: block;width: 100%;margin-bottom: 0;padding: 0.3em;box-sizing: border-box;text-align: center;}#sk-container-id-11 label.sk-toggleable__label-arrow:before {content: \"▸\";float: left;margin-right: 0.25em;color: #696969;}#sk-container-id-11 label.sk-toggleable__label-arrow:hover:before {color: black;}#sk-container-id-11 div.sk-estimator:hover label.sk-toggleable__label-arrow:before {color: black;}#sk-container-id-11 div.sk-toggleable__content {max-height: 0;max-width: 0;overflow: hidden;text-align: left;background-color: #f0f8ff;}#sk-container-id-11 div.sk-toggleable__content pre {margin: 0.2em;color: black;border-radius: 0.25em;background-color: #f0f8ff;}#sk-container-id-11 input.sk-toggleable__control:checked~div.sk-toggleable__content {max-height: 200px;max-width: 100%;overflow: auto;}#sk-container-id-11 input.sk-toggleable__control:checked~label.sk-toggleable__label-arrow:before {content: \"▾\";}#sk-container-id-11 div.sk-estimator input.sk-toggleable__control:checked~label.sk-toggleable__label {background-color: #d4ebff;}#sk-container-id-11 div.sk-label input.sk-toggleable__control:checked~label.sk-toggleable__label {background-color: #d4ebff;}#sk-container-id-11 input.sk-hidden--visually {border: 0;clip: rect(1px 1px 1px 1px);clip: rect(1px, 1px, 1px, 1px);height: 1px;margin: -1px;overflow: hidden;padding: 0;position: absolute;width: 1px;}#sk-container-id-11 div.sk-estimator {font-family: monospace;background-color: #f0f8ff;border: 1px dotted black;border-radius: 0.25em;box-sizing: border-box;margin-bottom: 0.5em;}#sk-container-id-11 div.sk-estimator:hover {background-color: #d4ebff;}#sk-container-id-11 div.sk-parallel-item::after {content: \"\";width: 100%;border-bottom: 1px solid gray;flex-grow: 1;}#sk-container-id-11 div.sk-label:hover label.sk-toggleable__label {background-color: #d4ebff;}#sk-container-id-11 div.sk-serial::before {content: \"\";position: absolute;border-left: 1px solid gray;box-sizing: border-box;top: 0;bottom: 0;left: 50%;z-index: 0;}#sk-container-id-11 div.sk-serial {display: flex;flex-direction: column;align-items: center;background-color: white;padding-right: 0.2em;padding-left: 0.2em;position: relative;}#sk-container-id-11 div.sk-item {position: relative;z-index: 1;}#sk-container-id-11 div.sk-parallel {display: flex;align-items: stretch;justify-content: center;background-color: white;position: relative;}#sk-container-id-11 div.sk-item::before, #sk-container-id-11 div.sk-parallel-item::before {content: \"\";position: absolute;border-left: 1px solid gray;box-sizing: border-box;top: 0;bottom: 0;left: 50%;z-index: -1;}#sk-container-id-11 div.sk-parallel-item {display: flex;flex-direction: column;z-index: 1;position: relative;background-color: white;}#sk-container-id-11 div.sk-parallel-item:first-child::after {align-self: flex-end;width: 50%;}#sk-container-id-11 div.sk-parallel-item:last-child::after {align-self: flex-start;width: 50%;}#sk-container-id-11 div.sk-parallel-item:only-child::after {width: 0;}#sk-container-id-11 div.sk-dashed-wrapped {border: 1px dashed gray;margin: 0 0.4em 0.5em 0.4em;box-sizing: border-box;padding-bottom: 0.4em;background-color: white;}#sk-container-id-11 div.sk-label label {font-family: monospace;font-weight: bold;display: inline-block;line-height: 1.2em;}#sk-container-id-11 div.sk-label-container {text-align: center;}#sk-container-id-11 div.sk-container {/* jupyter's `normalize.less` sets `[hidden] { display: none; }` but bootstrap.min.css set `[hidden] { display: none !important; }` so we also need the `!important` here to be able to override the default hidden behavior on the sphinx rendered scikit-learn.org. See: https://github.com/scikit-learn/scikit-learn/issues/21755 */display: inline-block !important;position: relative;}#sk-container-id-11 div.sk-text-repr-fallback {display: none;}</style><div id=\"sk-container-id-11\" class=\"sk-top-container\"><div class=\"sk-text-repr-fallback\"><pre>GridSearchCV(cv=5, estimator=MultinomialNB(),\n",
                            "             param_grid={&#x27;alpha&#x27;: [1, 1.5, 1.8, 1.9, 2, 3, 4],\n",
                            "                         &#x27;class_prior&#x27;: [[0.3, 0.7], [0.4, 0.6], [0.2, 0.8],\n",
                            "                                         None],\n",
                            "                         &#x27;fit_prior&#x27;: [True, False],\n",
                            "                         &#x27;force_alpha&#x27;: [True, False]},\n",
                            "             scoring=&#x27;accuracy&#x27;)</pre><b>In a Jupyter environment, please rerun this cell to show the HTML representation or trust the notebook. <br />On GitHub, the HTML representation is unable to render, please try loading this page with nbviewer.org.</b></div><div class=\"sk-container\" hidden><div class=\"sk-item sk-dashed-wrapped\"><div class=\"sk-label-container\"><div class=\"sk-label sk-toggleable\"><input class=\"sk-toggleable__control sk-hidden--visually\" id=\"sk-estimator-id-27\" type=\"checkbox\" ><label for=\"sk-estimator-id-27\" class=\"sk-toggleable__label sk-toggleable__label-arrow\">GridSearchCV</label><div class=\"sk-toggleable__content\"><pre>GridSearchCV(cv=5, estimator=MultinomialNB(),\n",
                            "             param_grid={&#x27;alpha&#x27;: [1, 1.5, 1.8, 1.9, 2, 3, 4],\n",
                            "                         &#x27;class_prior&#x27;: [[0.3, 0.7], [0.4, 0.6], [0.2, 0.8],\n",
                            "                                         None],\n",
                            "                         &#x27;fit_prior&#x27;: [True, False],\n",
                            "                         &#x27;force_alpha&#x27;: [True, False]},\n",
                            "             scoring=&#x27;accuracy&#x27;)</pre></div></div></div><div class=\"sk-parallel\"><div class=\"sk-parallel-item\"><div class=\"sk-item\"><div class=\"sk-label-container\"><div class=\"sk-label sk-toggleable\"><input class=\"sk-toggleable__control sk-hidden--visually\" id=\"sk-estimator-id-28\" type=\"checkbox\" ><label for=\"sk-estimator-id-28\" class=\"sk-toggleable__label sk-toggleable__label-arrow\">estimator: MultinomialNB</label><div class=\"sk-toggleable__content\"><pre>MultinomialNB()</pre></div></div></div><div class=\"sk-serial\"><div class=\"sk-item\"><div class=\"sk-estimator sk-toggleable\"><input class=\"sk-toggleable__control sk-hidden--visually\" id=\"sk-estimator-id-29\" type=\"checkbox\" ><label for=\"sk-estimator-id-29\" class=\"sk-toggleable__label sk-toggleable__label-arrow\">MultinomialNB</label><div class=\"sk-toggleable__content\"><pre>MultinomialNB()</pre></div></div></div></div></div></div></div></div></div></div>"
                        ],
                        "text/plain": [
                            "GridSearchCV(cv=5, estimator=MultinomialNB(),\n",
                            "             param_grid={'alpha': [1, 1.5, 1.8, 1.9, 2, 3, 4],\n",
                            "                         'class_prior': [[0.3, 0.7], [0.4, 0.6], [0.2, 0.8],\n",
                            "                                         None],\n",
                            "                         'fit_prior': [True, False],\n",
                            "                         'force_alpha': [True, False]},\n",
                            "             scoring='accuracy')"
                        ]
                    },
                    "execution_count": 179,
                    "metadata": {},
                    "output_type": "execute_result"
                }
            ],
            "source": [
                "grid = GridSearchCV(model, hyperparams, scoring = \"accuracy\", cv = 5)\n",
                "grid"
            ]
        },
        {
            "cell_type": "code",
            "execution_count": 180,
            "metadata": {},
            "outputs": [
                {
                    "data": {
                        "text/html": [
                            "<style>#sk-container-id-12 {color: black;}#sk-container-id-12 pre{padding: 0;}#sk-container-id-12 div.sk-toggleable {background-color: white;}#sk-container-id-12 label.sk-toggleable__label {cursor: pointer;display: block;width: 100%;margin-bottom: 0;padding: 0.3em;box-sizing: border-box;text-align: center;}#sk-container-id-12 label.sk-toggleable__label-arrow:before {content: \"▸\";float: left;margin-right: 0.25em;color: #696969;}#sk-container-id-12 label.sk-toggleable__label-arrow:hover:before {color: black;}#sk-container-id-12 div.sk-estimator:hover label.sk-toggleable__label-arrow:before {color: black;}#sk-container-id-12 div.sk-toggleable__content {max-height: 0;max-width: 0;overflow: hidden;text-align: left;background-color: #f0f8ff;}#sk-container-id-12 div.sk-toggleable__content pre {margin: 0.2em;color: black;border-radius: 0.25em;background-color: #f0f8ff;}#sk-container-id-12 input.sk-toggleable__control:checked~div.sk-toggleable__content {max-height: 200px;max-width: 100%;overflow: auto;}#sk-container-id-12 input.sk-toggleable__control:checked~label.sk-toggleable__label-arrow:before {content: \"▾\";}#sk-container-id-12 div.sk-estimator input.sk-toggleable__control:checked~label.sk-toggleable__label {background-color: #d4ebff;}#sk-container-id-12 div.sk-label input.sk-toggleable__control:checked~label.sk-toggleable__label {background-color: #d4ebff;}#sk-container-id-12 input.sk-hidden--visually {border: 0;clip: rect(1px 1px 1px 1px);clip: rect(1px, 1px, 1px, 1px);height: 1px;margin: -1px;overflow: hidden;padding: 0;position: absolute;width: 1px;}#sk-container-id-12 div.sk-estimator {font-family: monospace;background-color: #f0f8ff;border: 1px dotted black;border-radius: 0.25em;box-sizing: border-box;margin-bottom: 0.5em;}#sk-container-id-12 div.sk-estimator:hover {background-color: #d4ebff;}#sk-container-id-12 div.sk-parallel-item::after {content: \"\";width: 100%;border-bottom: 1px solid gray;flex-grow: 1;}#sk-container-id-12 div.sk-label:hover label.sk-toggleable__label {background-color: #d4ebff;}#sk-container-id-12 div.sk-serial::before {content: \"\";position: absolute;border-left: 1px solid gray;box-sizing: border-box;top: 0;bottom: 0;left: 50%;z-index: 0;}#sk-container-id-12 div.sk-serial {display: flex;flex-direction: column;align-items: center;background-color: white;padding-right: 0.2em;padding-left: 0.2em;position: relative;}#sk-container-id-12 div.sk-item {position: relative;z-index: 1;}#sk-container-id-12 div.sk-parallel {display: flex;align-items: stretch;justify-content: center;background-color: white;position: relative;}#sk-container-id-12 div.sk-item::before, #sk-container-id-12 div.sk-parallel-item::before {content: \"\";position: absolute;border-left: 1px solid gray;box-sizing: border-box;top: 0;bottom: 0;left: 50%;z-index: -1;}#sk-container-id-12 div.sk-parallel-item {display: flex;flex-direction: column;z-index: 1;position: relative;background-color: white;}#sk-container-id-12 div.sk-parallel-item:first-child::after {align-self: flex-end;width: 50%;}#sk-container-id-12 div.sk-parallel-item:last-child::after {align-self: flex-start;width: 50%;}#sk-container-id-12 div.sk-parallel-item:only-child::after {width: 0;}#sk-container-id-12 div.sk-dashed-wrapped {border: 1px dashed gray;margin: 0 0.4em 0.5em 0.4em;box-sizing: border-box;padding-bottom: 0.4em;background-color: white;}#sk-container-id-12 div.sk-label label {font-family: monospace;font-weight: bold;display: inline-block;line-height: 1.2em;}#sk-container-id-12 div.sk-label-container {text-align: center;}#sk-container-id-12 div.sk-container {/* jupyter's `normalize.less` sets `[hidden] { display: none; }` but bootstrap.min.css set `[hidden] { display: none !important; }` so we also need the `!important` here to be able to override the default hidden behavior on the sphinx rendered scikit-learn.org. See: https://github.com/scikit-learn/scikit-learn/issues/21755 */display: inline-block !important;position: relative;}#sk-container-id-12 div.sk-text-repr-fallback {display: none;}</style><div id=\"sk-container-id-12\" class=\"sk-top-container\"><div class=\"sk-text-repr-fallback\"><pre>GridSearchCV(cv=5, estimator=MultinomialNB(),\n",
                            "             param_grid={&#x27;alpha&#x27;: [1, 1.5, 1.8, 1.9, 2, 3, 4],\n",
                            "                         &#x27;class_prior&#x27;: [[0.3, 0.7], [0.4, 0.6], [0.2, 0.8],\n",
                            "                                         None],\n",
                            "                         &#x27;fit_prior&#x27;: [True, False],\n",
                            "                         &#x27;force_alpha&#x27;: [True, False]},\n",
                            "             scoring=&#x27;accuracy&#x27;)</pre><b>In a Jupyter environment, please rerun this cell to show the HTML representation or trust the notebook. <br />On GitHub, the HTML representation is unable to render, please try loading this page with nbviewer.org.</b></div><div class=\"sk-container\" hidden><div class=\"sk-item sk-dashed-wrapped\"><div class=\"sk-label-container\"><div class=\"sk-label sk-toggleable\"><input class=\"sk-toggleable__control sk-hidden--visually\" id=\"sk-estimator-id-30\" type=\"checkbox\" ><label for=\"sk-estimator-id-30\" class=\"sk-toggleable__label sk-toggleable__label-arrow\">GridSearchCV</label><div class=\"sk-toggleable__content\"><pre>GridSearchCV(cv=5, estimator=MultinomialNB(),\n",
                            "             param_grid={&#x27;alpha&#x27;: [1, 1.5, 1.8, 1.9, 2, 3, 4],\n",
                            "                         &#x27;class_prior&#x27;: [[0.3, 0.7], [0.4, 0.6], [0.2, 0.8],\n",
                            "                                         None],\n",
                            "                         &#x27;fit_prior&#x27;: [True, False],\n",
                            "                         &#x27;force_alpha&#x27;: [True, False]},\n",
                            "             scoring=&#x27;accuracy&#x27;)</pre></div></div></div><div class=\"sk-parallel\"><div class=\"sk-parallel-item\"><div class=\"sk-item\"><div class=\"sk-label-container\"><div class=\"sk-label sk-toggleable\"><input class=\"sk-toggleable__control sk-hidden--visually\" id=\"sk-estimator-id-31\" type=\"checkbox\" ><label for=\"sk-estimator-id-31\" class=\"sk-toggleable__label sk-toggleable__label-arrow\">estimator: MultinomialNB</label><div class=\"sk-toggleable__content\"><pre>MultinomialNB()</pre></div></div></div><div class=\"sk-serial\"><div class=\"sk-item\"><div class=\"sk-estimator sk-toggleable\"><input class=\"sk-toggleable__control sk-hidden--visually\" id=\"sk-estimator-id-32\" type=\"checkbox\" ><label for=\"sk-estimator-id-32\" class=\"sk-toggleable__label sk-toggleable__label-arrow\">MultinomialNB</label><div class=\"sk-toggleable__content\"><pre>MultinomialNB()</pre></div></div></div></div></div></div></div></div></div></div>"
                        ],
                        "text/plain": [
                            "GridSearchCV(cv=5, estimator=MultinomialNB(),\n",
                            "             param_grid={'alpha': [1, 1.5, 1.8, 1.9, 2, 3, 4],\n",
                            "                         'class_prior': [[0.3, 0.7], [0.4, 0.6], [0.2, 0.8],\n",
                            "                                         None],\n",
                            "                         'fit_prior': [True, False],\n",
                            "                         'force_alpha': [True, False]},\n",
                            "             scoring='accuracy')"
                        ]
                    },
                    "execution_count": 180,
                    "metadata": {},
                    "output_type": "execute_result"
                }
            ],
            "source": [
                "grid.fit(X_train, y_train)"
            ]
        },
        {
            "cell_type": "code",
            "execution_count": 181,
            "metadata": {},
            "outputs": [
                {
                    "data": {
                        "text/plain": [
                            "{'alpha': 3, 'class_prior': [0.3, 0.7], 'fit_prior': True, 'force_alpha': True}"
                        ]
                    },
                    "execution_count": 181,
                    "metadata": {},
                    "output_type": "execute_result"
                }
            ],
            "source": [
                "grid.best_params_"
            ]
        },
        {
            "cell_type": "code",
            "execution_count": 182,
            "metadata": {},
            "outputs": [],
            "source": [
                "best_model = grid.best_estimator_\n",
                "\n",
                "# Save model\n",
                "dump(best_model, open(\"/workspaces/ml-proyect-naive-bayes/models/best_model_gs.pk\", \"wb\"))"
            ]
        },
        {
            "cell_type": "code",
            "execution_count": 183,
            "metadata": {},
            "outputs": [
                {
                    "data": {
                        "text/plain": [
                            "0.9283707865168539"
                        ]
                    },
                    "execution_count": 183,
                    "metadata": {},
                    "output_type": "execute_result"
                }
            ],
            "source": [
                "y_pred = best_model.predict(X_train)\n",
                "accuracy_score(y_train, y_pred)"
            ]
        },
        {
            "cell_type": "code",
            "execution_count": 184,
            "metadata": {},
            "outputs": [
                {
                    "data": {
                        "text/plain": [
                            "0.8603351955307262"
                        ]
                    },
                    "execution_count": 184,
                    "metadata": {},
                    "output_type": "execute_result"
                }
            ],
            "source": [
                "y_pred = best_model.predict(X_test)\n",
                "accuracy_score(y_test, y_pred)"
            ]
        },
        {
            "cell_type": "markdown",
            "metadata": {},
            "source": [
                "### Best model with ParameterGrid"
            ]
        },
        {
            "cell_type": "code",
            "execution_count": 185,
            "metadata": {},
            "outputs": [
                {
                    "data": {
                        "text/plain": [
                            "{'alpha': 1, 'class_prior': None, 'fit_prior': False, 'force_alpha': True}"
                        ]
                    },
                    "execution_count": 185,
                    "metadata": {},
                    "output_type": "execute_result"
                }
            ],
            "source": [
                "accs = []\n",
                "for combination in ParameterGrid(hyperparams):\n",
                "    model = MultinomialNB(**combination)\n",
                "    model.fit(X_train, y_train)\n",
                "    y_pred = model.predict(X_train)\n",
                "    accs.append(accuracy_score(y_train, y_pred))\n",
                "\n",
                "best_acc = max(accs)\n",
                "best_combination = list(ParameterGrid(hyperparams))[accs.index(best_acc)]\n",
                "best_model = MultinomialNB(**best_combination)\n",
                "best_model.fit(X_train, y_train)\n",
                "\n",
                "# Save model\n",
                "dump(best_model, open(\"/workspaces/ml-proyect-naive-bayes/models/best_model_pg.pk\", \"wb\"))\n",
                "\n",
                "best_combination"
            ]
        },
        {
            "cell_type": "code",
            "execution_count": 186,
            "metadata": {},
            "outputs": [
                {
                    "data": {
                        "text/plain": [
                            "0.9606741573033708"
                        ]
                    },
                    "execution_count": 186,
                    "metadata": {},
                    "output_type": "execute_result"
                }
            ],
            "source": [
                "y_pred = best_model.predict(X_train)\n",
                "accuracy_score(y_train, y_pred)"
            ]
        },
        {
            "cell_type": "code",
            "execution_count": 187,
            "metadata": {},
            "outputs": [
                {
                    "data": {
                        "text/plain": [
                            "0.8435754189944135"
                        ]
                    },
                    "execution_count": 187,
                    "metadata": {},
                    "output_type": "execute_result"
                }
            ],
            "source": [
                "y_pred = best_model.predict(X_test)\n",
                "accuracy_score(y_test, y_pred)"
            ]
        },
        {
            "cell_type": "markdown",
            "metadata": {},
            "source": [
                "### Confusion_matrix"
            ]
        },
        {
            "cell_type": "code",
            "execution_count": 188,
            "metadata": {},
            "outputs": [
                {
                    "data": {
                        "image/png": "[encoded data removed]",
                        "text/plain": [
                            "<Figure size 300x300 with 1 Axes>"
                        ]
                    },
                    "metadata": {},
                    "output_type": "display_data"
                }
            ],
            "source": [
                "cm = confusion_matrix(y_test, y_pred)\n",
                "\n",
                "cm_df = pd.DataFrame(cm)\n",
                "\n",
                "plt.figure(figsize = (3, 3))\n",
                "sns.heatmap(cm_df, annot=True, fmt=\"d\", cbar=False)\n",
                "\n",
                "plt.tight_layout()\n",
                "\n",
                "plt.show()"
            ]
        },
        {
            "cell_type": "markdown",
            "metadata": {},
            "source": [
                "Conclusion:\n",
                "\n",
                "The best naive model obtained is the best_model_pg, where I achieved a 96% accuracy on the train set and an 84% accuracy on the test set."
            ]
        }
    ],
    "metadata": {
        "kernelspec": {
            "display_name": "Python 3.8.13 64-bit ('3.8.13')",
            "language": "python",
            "name": "python3"
        },
        "language_info": {
            "codemirror_mode": {
                "name": "ipython",
                "version": 3
            },
            "file_extension": ".py",
            "mimetype": "text/x-python",
            "name": "python",
            "nbconvert_exporter": "python",
            "pygments_lexer": "ipython3",
            "version": "3.11.4"
        },
        "orig_nbformat": 4,
        "vscode": {
            "interpreter": {
                "hash": "110cc1dee26208153f2972f08a2ad52b6a56238dc66d48e87fb757ef2996db56"
            }
        }
    },
    "nbformat": 4,
    "nbformat_minor": 2
}
